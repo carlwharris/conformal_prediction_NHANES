{
 "cells": [
  {
   "cell_type": "code",
   "execution_count": 1,
   "metadata": {},
   "outputs": [],
   "source": [
    "%load_ext autoreload\n",
    "%autoreload 2"
   ]
  },
  {
   "cell_type": "code",
   "execution_count": 2,
   "metadata": {},
   "outputs": [],
   "source": [
    "import pandas as pd\n",
    "import numpy as np\n",
    "from conformal_prediction import CP, calc_coverage\n",
    "from preprocess_data import recode_variables_NHANES,recode_variables_LOOK_AHEAD, split_train_cal_test\n",
    "import matplotlib.pyplot as plt\n",
    "import os\n",
    "\n",
    "from sklearn.preprocessing import StandardScaler"
   ]
  },
  {
   "cell_type": "code",
   "execution_count": 37,
   "metadata": {},
   "outputs": [
    {
     "name": "stdout",
     "output_type": "stream",
     "text": [
      "Total sample size: 45377\n",
      "Total sample size after dropping missing values: 38493\n"
     ]
    }
   ],
   "source": [
    "f_path = '/Users/carlharris/Documents/AIEM/Diabetes/waist_circumference/data.csv'\n",
    "df = pd.read_csv(f_path, na_values=\"None\")\n",
    "df = recode_variables_NHANES(df)\n",
    "print(f\"Total sample size: {len(df)}\")\n",
    "df.dropna(inplace=True)\n",
    "print(f\"Total sample size after dropping missing values: {len(df)}\")\n",
    "\n"
   ]
  },
  {
   "cell_type": "code",
   "execution_count": 35,
   "metadata": {},
   "outputs": [
    {
     "name": "stdout",
     "output_type": "stream",
     "text": [
      "FEMALE: N=19413, 50.4%\n",
      "MALE: N=19080, 49.6%\n",
      "HISPANIC: N=10037, 26.1%\n",
      "NON-HISPANIC: N=28456, 73.9%\n",
      "BLACK: N=8837, 23.0%\n",
      "WHITE: N=15265, 39.7%\n",
      "OTHER_MIXED: N=4354, 11.3%\n",
      "ED_LESS_HS: N=9108, 23.7%\n",
      "ED_HS_GED: N=8918, 23.2%\n",
      "ED_SOME_COLL_AA: N=11582, 30.1%\n",
      "ED_COLL_ABOVE: N=8860, 23.0%\n",
      "ED_OTHR_DK: N=25, 0.1%\n",
      "WAIST: mean=99.2, std=16.6, range=[55.5, 187.5]\n",
      "AGE: mean=46.6, std=15.6, range=[20.0, 75.0]\n",
      "WEIGHT: mean=82.4, std=21.5, range=[32.3, 223.5]\n",
      "HEIGHT: mean=167.6, std=10.1, range=[123.3, 204.5]\n",
      "BMI: mean=29.3, std=6.9, range=[13.2, 84.9]\n"
     ]
    }
   ],
   "source": [
    "col = 'FEMALE'\n",
    "\n",
    "def categorical_vals(df, col):\n",
    "    n = df[col].sum()\n",
    "    prop = (n/len(df)) * 100\n",
    "    print(f\"{col}: N={n:.0f}, {prop:.1f}%\")\n",
    "\n",
    "def mean_std_range(df, col):\n",
    "    mean = df[col].mean()\n",
    "    std = df[col].std()\n",
    "    min_ = df[col].min()\n",
    "    max_ = df[col].max()\n",
    "    print(f\"{col}: mean={mean:.1f}, std={std:.1f}, range=[{min_:.1f}, {max_:.1f}]\")\n",
    "\n",
    "categorical_vals(df, 'FEMALE')\n",
    "\n",
    "n = len(df) - df['FEMALE'].sum()\n",
    "prop = (n /len(df)) * 100\n",
    "print(f\"MALE: N={n:.0f}, {prop:.1f}%\")\n",
    "\n",
    "categorical_vals(df, 'HISPANIC')\n",
    "n = len(NHANES_df) - df['HISPANIC'].sum()\n",
    "prop = (n /len(df)) * 100\n",
    "print(f\"NON-HISPANIC: N={n:.0f}, {prop:.1f}%\")\n",
    "\n",
    "categorical_vals(df, 'BLACK')\n",
    "categorical_vals(df, 'WHITE')\n",
    "categorical_vals(df, 'OTHER_MIXED')\n",
    "\n",
    "for ed in ['ED_LESS_HS', 'ED_HS_GED', 'ED_SOME_COLL_AA', 'ED_COLL_ABOVE', 'ED_OTHR_DK']:\n",
    "    categorical_vals(df, ed)\n",
    "\n",
    "mean_std_range(df, 'WAIST')\n",
    "mean_std_range(df, 'AGE')\n",
    "mean_std_range(df, 'WEIGHT')\n",
    "mean_std_range(df, 'HEIGHT')\n",
    "mean_std_range(df, 'BMI')\n"
   ]
  },
  {
   "cell_type": "code",
   "execution_count": 38,
   "metadata": {},
   "outputs": [
    {
     "name": "stdout",
     "output_type": "stream",
     "text": [
      "Total sample size: 38493\n",
      "Total sample size after dropping missing values: 38493\n"
     ]
    }
   ],
   "source": [
    "f_path = \"/Users/carlharris/Documents/AIEM/Diabetes/LOOK AHEAD/Data/Baseline/Analysis_Data/baseline_combined.csv\"\n",
    "df = pd.read_csv(f_path)\n",
    "df = recode_variables_LOOK_AHEAD(df)\n",
    "\n",
    "print(f\"Total sample size: {len(NHANES_df)}\")\n",
    "df.dropna(inplace=True)\n",
    "print(f\"Total sample size after dropping missing values: {len(NHANES_df)}\")\n"
   ]
  },
  {
   "cell_type": "code",
   "execution_count": 39,
   "metadata": {},
   "outputs": [
    {
     "name": "stdout",
     "output_type": "stream",
     "text": [
      "FEMALE: N=2872, 58.6%\n",
      "MALE: N=2027, 41.4%\n",
      "HISPANIC: N=675, 13.8%\n",
      "NON-HISPANIC: N=4224, 86.2%\n",
      "BLACK: N=803, 16.4%\n",
      "WHITE: N=3247, 66.3%\n",
      "OTHER_MIXED: N=174, 3.6%\n",
      "ED_LESS_HS: N=299, 6.1%\n",
      "ED_HS_GED: N=631, 12.9%\n",
      "ED_SOME_COLL_AA: N=1798, 36.7%\n",
      "ED_COLL_ABOVE: N=1232, 25.1%\n",
      "ED_OTHR_DK: N=98, 2.0%\n",
      "WAIST: mean=113.9, std=14.0, range=[70.8, 210.8]\n",
      "AGE: mean=58.9, std=6.8, range=[44.0, 76.0]\n",
      "WEIGHT: mean=101.0, std=19.2, range=[58.0, 182.7]\n",
      "HEIGHT: mean=167.5, std=9.7, range=[136.7, 198.0]\n",
      "BMI: mean=35.9, std=5.9, range=[24.6, 63.5]\n"
     ]
    }
   ],
   "source": [
    "def categorical_vals(df, col):\n",
    "    n = df[col].sum()\n",
    "    prop = (n/len(df)) * 100\n",
    "    print(f\"{col}: N={n:.0f}, {prop:.1f}%\")\n",
    "\n",
    "def mean_std_range(df, col):\n",
    "    mean = df[col].mean()\n",
    "    std = df[col].std()\n",
    "    min_ = df[col].min()\n",
    "    max_ = df[col].max()\n",
    "    print(f\"{col}: mean={mean:.1f}, std={std:.1f}, range=[{min_:.1f}, {max_:.1f}]\")\n",
    "\n",
    "categorical_vals(df, 'FEMALE')\n",
    "\n",
    "n = len(df) - df['FEMALE'].sum()\n",
    "prop = (n /len(df)) * 100\n",
    "print(f\"MALE: N={n:.0f}, {prop:.1f}%\")\n",
    "\n",
    "categorical_vals(df, 'HISPANIC')\n",
    "n = len(df) - df['HISPANIC'].sum()\n",
    "prop = (n /len(df)) * 100\n",
    "print(f\"NON-HISPANIC: N={n:.0f}, {prop:.1f}%\")\n",
    "\n",
    "categorical_vals(df, 'BLACK')\n",
    "categorical_vals(df, 'WHITE')\n",
    "categorical_vals(df, 'OTHER_MIXED')\n",
    "\n",
    "for ed in ['ED_LESS_HS', 'ED_HS_GED', 'ED_SOME_COLL_AA', 'ED_COLL_ABOVE', 'ED_OTHR_DK']:\n",
    "    categorical_vals(df, ed)\n",
    "\n",
    "mean_std_range(df, 'WAIST')\n",
    "mean_std_range(df, 'AGE')\n",
    "mean_std_range(df, 'WEIGHT')\n",
    "mean_std_range(df, 'HEIGHT')\n",
    "mean_std_range(df, 'BMI')\n"
   ]
  }
 ],
 "metadata": {
  "kernelspec": {
   "display_name": "CP_waist_circumference",
   "language": "python",
   "name": "python3"
  },
  "language_info": {
   "codemirror_mode": {
    "name": "ipython",
    "version": 3
   },
   "file_extension": ".py",
   "mimetype": "text/x-python",
   "name": "python",
   "nbconvert_exporter": "python",
   "pygments_lexer": "ipython3",
   "version": "3.11.5"
  }
 },
 "nbformat": 4,
 "nbformat_minor": 2
}
