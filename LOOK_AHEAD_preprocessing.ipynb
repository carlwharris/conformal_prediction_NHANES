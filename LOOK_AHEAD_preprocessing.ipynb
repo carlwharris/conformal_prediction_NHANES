{
 "cells": [
  {
   "cell_type": "code",
   "execution_count": 1,
   "id": "initial_id",
   "metadata": {
    "collapsed": true,
    "ExecuteTime": {
     "end_time": "2023-09-20T19:42:09.592212Z",
     "start_time": "2023-09-20T19:42:09.565486Z"
    }
   },
   "outputs": [],
   "source": [
    "%load_ext autoreload\n",
    "%autoreload 2"
   ]
  },
  {
   "cell_type": "code",
   "execution_count": 2,
   "outputs": [],
   "source": [
    "import pandas as pd\n",
    "import numpy as np\n",
    "from conformal_prediction import CP, calc_coverage\n",
    "from preprocess_data import recode_variables, split_train_cal_test\n",
    "import matplotlib.pyplot as plt\n",
    "import os\n",
    "\n",
    "from sklearn.preprocessing import StandardScaler"
   ],
   "metadata": {
    "collapsed": false,
    "ExecuteTime": {
     "end_time": "2023-09-20T19:42:29.744217Z",
     "start_time": "2023-09-20T19:42:09.594821Z"
    }
   },
   "id": "8613f6ef62d0e236"
  },
  {
   "cell_type": "code",
   "execution_count": 3,
   "outputs": [],
   "source": [
    "f_path = '/Users/carlharris/Documents/AIEM/Diabetes/waist_circumference/data.csv'\n",
    "df = pd.read_csv(f_path, na_values=\"None\")\n",
    "\n",
    "df['Education'] = df['Education'].astype(float)\n",
    "df = recode_variables(df)"
   ],
   "metadata": {
    "collapsed": false,
    "ExecuteTime": {
     "end_time": "2023-09-20T19:42:29.835748Z",
     "start_time": "2023-09-20T19:42:29.745089Z"
    }
   },
   "id": "b62b767711311949"
  },
  {
   "cell_type": "code",
   "execution_count": 20,
   "outputs": [],
   "source": [
    "f_path = \"/Users/carlharris/Documents/AIEM/Diabetes/LOOK AHEAD/Data/Baseline/Analysis_Data/baseline_combined.csv\"\n",
    "df = pd.read_csv(f_path)\n",
    "df = df.replace(to_replace='Missing', value=np.nan)\n",
    "\n",
    "new_df = pd.DataFrame(index=df['P_ID'])"
   ],
   "metadata": {
    "collapsed": false,
    "ExecuteTime": {
     "end_time": "2023-09-20T19:58:26.508461Z",
     "start_time": "2023-09-20T19:58:26.345285Z"
    }
   },
   "id": "176b634436a49e52"
  },
  {
   "cell_type": "code",
   "execution_count": 22,
   "outputs": [],
   "source": [
    "new_df['FEMALE'] = df['FEMALE'].map({'Yes': 1, 'No': 0}).values"
   ],
   "metadata": {
    "collapsed": false,
    "ExecuteTime": {
     "end_time": "2023-09-20T19:58:58.110770Z",
     "start_time": "2023-09-20T19:58:58.065767Z"
    }
   },
   "id": "3e6a168f853fdbd3"
  },
  {
   "cell_type": "code",
   "execution_count": 15,
   "outputs": [
    {
     "data": {
      "text/plain": "array(['White', 'Other/Mixed', 'African American / Black (not Hispanic)',\n       'Hispanic'], dtype=object)"
     },
     "execution_count": 15,
     "metadata": {},
     "output_type": "execute_result"
    }
   ],
   "source": [
    "df['RACEVAR'].unique()"
   ],
   "metadata": {
    "collapsed": false,
    "ExecuteTime": {
     "end_time": "2023-09-20T19:56:39.912034Z",
     "start_time": "2023-09-20T19:56:39.879521Z"
    }
   },
   "id": "66dcef17f2474d9b"
  },
  {
   "cell_type": "code",
   "execution_count": 25,
   "outputs": [],
   "source": [
    "new_df['WHITE'] = (df['RACEVAR'] == 'White').astype('int').values\n",
    "new_df['HISPANIC'] = (df['RACEVAR'] == 'Hispanic').astype('int').values\n",
    "new_df['BLACK'] = (df['RACEVAR'] == 'African American / Black (not Hispanic)').astype('int').values\n",
    "new_df['OTHER_MIXED'] = (df['RACEVAR'] == 'Other/Mixed').astype('int').values"
   ],
   "metadata": {
    "collapsed": false,
    "ExecuteTime": {
     "end_time": "2023-09-20T19:59:33.478974Z",
     "start_time": "2023-09-20T19:59:33.433948Z"
    }
   },
   "id": "75dddf055ba7fa43"
  },
  {
   "cell_type": "code",
   "execution_count": 26,
   "outputs": [
    {
     "data": {
      "text/plain": "0       33.725645\n1       50.590248\n2       35.552874\n3       35.781103\n4       29.159845\n          ...    \n4901    38.473714\n4902    29.092703\n4903    32.690207\n4904    33.096167\n4905    37.686090\nName: bmi, Length: 4906, dtype: float64"
     },
     "execution_count": 26,
     "metadata": {},
     "output_type": "execute_result"
    }
   ],
   "source": [
    "df['bmi']"
   ],
   "metadata": {
    "collapsed": false,
    "ExecuteTime": {
     "end_time": "2023-09-20T20:00:48.282914Z",
     "start_time": "2023-09-20T20:00:48.237625Z"
    }
   },
   "id": "c4774605cbc0519a"
  },
  {
   "cell_type": "code",
   "execution_count": 29,
   "outputs": [],
   "source": [
    "new_df['BMI'] =  df['bmi'].values\n",
    "new_df['AGE'] = df['age'].values\n",
    "new_df['WEIGHT'] = ((df['weight1_kg'] + df['weight2_kg'])/2).values\n",
    "new_df['WAIST'] = df['waistcm_mean'].values"
   ],
   "metadata": {
    "collapsed": false,
    "ExecuteTime": {
     "end_time": "2023-09-20T20:10:44.808056Z",
     "start_time": "2023-09-20T20:10:44.687923Z"
    }
   },
   "id": "4095811a6fda2a92"
  },
  {
   "cell_type": "code",
   "execution_count": null,
   "outputs": [],
   "source": [],
   "metadata": {
    "collapsed": false
   },
   "id": "dde7a13dbb13eeda"
  }
 ],
 "metadata": {
  "kernelspec": {
   "display_name": "Python 3",
   "language": "python",
   "name": "python3"
  },
  "language_info": {
   "codemirror_mode": {
    "name": "ipython",
    "version": 2
   },
   "file_extension": ".py",
   "mimetype": "text/x-python",
   "name": "python",
   "nbconvert_exporter": "python",
   "pygments_lexer": "ipython2",
   "version": "2.7.6"
  }
 },
 "nbformat": 4,
 "nbformat_minor": 5
}
