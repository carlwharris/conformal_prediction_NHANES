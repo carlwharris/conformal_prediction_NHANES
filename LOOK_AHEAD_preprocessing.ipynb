{
 "cells": [
  {
   "cell_type": "code",
   "execution_count": 1,
   "id": "initial_id",
   "metadata": {
    "ExecuteTime": {
     "end_time": "2023-09-20T19:42:09.592212Z",
     "start_time": "2023-09-20T19:42:09.565486Z"
    },
    "collapsed": true
   },
   "outputs": [],
   "source": [
    "%load_ext autoreload\n",
    "%autoreload 2"
   ]
  },
  {
   "cell_type": "code",
   "execution_count": 2,
   "id": "8613f6ef62d0e236",
   "metadata": {
    "ExecuteTime": {
     "end_time": "2023-09-20T19:42:29.744217Z",
     "start_time": "2023-09-20T19:42:09.594821Z"
    },
    "collapsed": false
   },
   "outputs": [
    {
     "ename": "ImportError",
     "evalue": "cannot import name 'recode_variables' from 'preprocess_data' (/Users/carlharris/VSCode/conformal_prediction_NHANES/preprocess_data.py)",
     "output_type": "error",
     "traceback": [
      "\u001b[0;31m---------------------------------------------------------------------------\u001b[0m",
      "\u001b[0;31mImportError\u001b[0m                               Traceback (most recent call last)",
      "\u001b[1;32m/Users/carlharris/VSCode/conformal_prediction_NHANES/LOOK_AHEAD_preprocessing.ipynb Cell 2\u001b[0m line \u001b[0;36m4\n\u001b[1;32m      <a href='vscode-notebook-cell:/Users/carlharris/VSCode/conformal_prediction_NHANES/LOOK_AHEAD_preprocessing.ipynb#W1sZmlsZQ%3D%3D?line=1'>2</a>\u001b[0m \u001b[39mimport\u001b[39;00m \u001b[39mnumpy\u001b[39;00m \u001b[39mas\u001b[39;00m \u001b[39mnp\u001b[39;00m\n\u001b[1;32m      <a href='vscode-notebook-cell:/Users/carlharris/VSCode/conformal_prediction_NHANES/LOOK_AHEAD_preprocessing.ipynb#W1sZmlsZQ%3D%3D?line=2'>3</a>\u001b[0m \u001b[39mfrom\u001b[39;00m \u001b[39mconformal_prediction\u001b[39;00m \u001b[39mimport\u001b[39;00m CP, calc_coverage\n\u001b[0;32m----> <a href='vscode-notebook-cell:/Users/carlharris/VSCode/conformal_prediction_NHANES/LOOK_AHEAD_preprocessing.ipynb#W1sZmlsZQ%3D%3D?line=3'>4</a>\u001b[0m \u001b[39mfrom\u001b[39;00m \u001b[39mpreprocess_data\u001b[39;00m \u001b[39mimport\u001b[39;00m recode_variables, split_train_cal_test\n\u001b[1;32m      <a href='vscode-notebook-cell:/Users/carlharris/VSCode/conformal_prediction_NHANES/LOOK_AHEAD_preprocessing.ipynb#W1sZmlsZQ%3D%3D?line=4'>5</a>\u001b[0m \u001b[39mimport\u001b[39;00m \u001b[39mmatplotlib\u001b[39;00m\u001b[39m.\u001b[39;00m\u001b[39mpyplot\u001b[39;00m \u001b[39mas\u001b[39;00m \u001b[39mplt\u001b[39;00m\n\u001b[1;32m      <a href='vscode-notebook-cell:/Users/carlharris/VSCode/conformal_prediction_NHANES/LOOK_AHEAD_preprocessing.ipynb#W1sZmlsZQ%3D%3D?line=5'>6</a>\u001b[0m \u001b[39mimport\u001b[39;00m \u001b[39mos\u001b[39;00m\n",
      "\u001b[0;31mImportError\u001b[0m: cannot import name 'recode_variables' from 'preprocess_data' (/Users/carlharris/VSCode/conformal_prediction_NHANES/preprocess_data.py)"
     ]
    }
   ],
   "source": [
    "import pandas as pd\n",
    "import numpy as np\n",
    "from conformal_prediction import CP, calc_coverage\n",
    "from preprocess_data import recode_variables, split_train_cal_test\n",
    "import matplotlib.pyplot as plt\n",
    "import os\n",
    "\n",
    "from sklearn.preprocessing import StandardScaler"
   ]
  },
  {
   "cell_type": "code",
   "execution_count": 3,
   "id": "b62b767711311949",
   "metadata": {
    "ExecuteTime": {
     "end_time": "2023-09-20T19:42:29.835748Z",
     "start_time": "2023-09-20T19:42:29.745089Z"
    },
    "collapsed": false
   },
   "outputs": [],
   "source": [
    "f_path = '/Users/carlharris/Documents/AIEM/Diabetes/waist_circumference/data.csv'\n",
    "df = pd.read_csv(f_path, na_values=\"None\")\n",
    "\n",
    "df['Education'] = df['Education'].astype(float)\n",
    "df = recode_variables(df)"
   ]
  },
  {
   "cell_type": "code",
   "execution_count": 20,
   "id": "176b634436a49e52",
   "metadata": {
    "ExecuteTime": {
     "end_time": "2023-09-20T19:58:26.508461Z",
     "start_time": "2023-09-20T19:58:26.345285Z"
    },
    "collapsed": false
   },
   "outputs": [],
   "source": [
    "f_path = \"/Users/carlharris/Documents/AIEM/Diabetes/LOOK AHEAD/Data/Baseline/Analysis_Data/baseline_combined.csv\"\n",
    "df = pd.read_csv(f_path)\n",
    "df = df.replace(to_replace='Missing', value=np.nan)\n",
    "\n",
    "new_df = pd.DataFrame(index=df['P_ID'])"
   ]
  },
  {
   "cell_type": "code",
   "execution_count": 22,
   "id": "3e6a168f853fdbd3",
   "metadata": {
    "ExecuteTime": {
     "end_time": "2023-09-20T19:58:58.110770Z",
     "start_time": "2023-09-20T19:58:58.065767Z"
    },
    "collapsed": false
   },
   "outputs": [],
   "source": [
    "new_df['FEMALE'] = df['FEMALE'].map({'Yes': 1, 'No': 0}).values"
   ]
  },
  {
   "cell_type": "code",
   "execution_count": 15,
   "id": "66dcef17f2474d9b",
   "metadata": {
    "ExecuteTime": {
     "end_time": "2023-09-20T19:56:39.912034Z",
     "start_time": "2023-09-20T19:56:39.879521Z"
    },
    "collapsed": false
   },
   "outputs": [
    {
     "data": {
      "text/plain": [
       "array(['White', 'Other/Mixed', 'African American / Black (not Hispanic)',\n",
       "       'Hispanic'], dtype=object)"
      ]
     },
     "execution_count": 15,
     "metadata": {},
     "output_type": "execute_result"
    }
   ],
   "source": [
    "df['RACEVAR'].unique()"
   ]
  },
  {
   "cell_type": "code",
   "execution_count": 25,
   "id": "75dddf055ba7fa43",
   "metadata": {
    "ExecuteTime": {
     "end_time": "2023-09-20T19:59:33.478974Z",
     "start_time": "2023-09-20T19:59:33.433948Z"
    },
    "collapsed": false
   },
   "outputs": [],
   "source": [
    "new_df['WHITE'] = (df['RACEVAR'] == 'White').astype('int').values\n",
    "new_df['HISPANIC'] = (df['RACEVAR'] == 'Hispanic').astype('int').values\n",
    "new_df['BLACK'] = (df['RACEVAR'] == 'African American / Black (not Hispanic)').astype('int').values\n",
    "new_df['OTHER_MIXED'] = (df['RACEVAR'] == 'Other/Mixed').astype('int').values"
   ]
  },
  {
   "cell_type": "code",
   "execution_count": 26,
   "id": "c4774605cbc0519a",
   "metadata": {
    "ExecuteTime": {
     "end_time": "2023-09-20T20:00:48.282914Z",
     "start_time": "2023-09-20T20:00:48.237625Z"
    },
    "collapsed": false
   },
   "outputs": [
    {
     "data": {
      "text/plain": [
       "0       33.725645\n",
       "1       50.590248\n",
       "2       35.552874\n",
       "3       35.781103\n",
       "4       29.159845\n",
       "          ...    \n",
       "4901    38.473714\n",
       "4902    29.092703\n",
       "4903    32.690207\n",
       "4904    33.096167\n",
       "4905    37.686090\n",
       "Name: bmi, Length: 4906, dtype: float64"
      ]
     },
     "execution_count": 26,
     "metadata": {},
     "output_type": "execute_result"
    }
   ],
   "source": [
    "df['bmi']"
   ]
  },
  {
   "cell_type": "code",
   "execution_count": 29,
   "id": "4095811a6fda2a92",
   "metadata": {
    "ExecuteTime": {
     "end_time": "2023-09-20T20:10:44.808056Z",
     "start_time": "2023-09-20T20:10:44.687923Z"
    },
    "collapsed": false
   },
   "outputs": [],
   "source": [
    "new_df['BMI'] =  df['bmi'].values\n",
    "new_df['AGE'] = df['age'].values\n",
    "new_df['WEIGHT'] = ((df['weight1_kg'] + df['weight2_kg'])/2).values\n",
    "new_df['WAIST'] = df['waistcm_mean'].values"
   ]
  },
  {
   "cell_type": "code",
   "execution_count": null,
   "id": "dde7a13dbb13eeda",
   "metadata": {
    "collapsed": false
   },
   "outputs": [],
   "source": []
  }
 ],
 "metadata": {
  "kernelspec": {
   "display_name": "Python 3",
   "language": "python",
   "name": "python3"
  },
  "language_info": {
   "codemirror_mode": {
    "name": "ipython",
    "version": 3
   },
   "file_extension": ".py",
   "mimetype": "text/x-python",
   "name": "python",
   "nbconvert_exporter": "python",
   "pygments_lexer": "ipython3",
   "version": "3.11.5"
  }
 },
 "nbformat": 4,
 "nbformat_minor": 5
}
