{
 "cells": [
  {
   "cell_type": "code",
   "execution_count": 1,
   "id": "initial_id",
   "metadata": {
    "collapsed": true,
    "ExecuteTime": {
     "end_time": "2023-09-14T17:28:59.972340Z",
     "start_time": "2023-09-14T17:28:59.927223Z"
    }
   },
   "outputs": [],
   "source": [
    "%load_ext autoreload\n",
    "%autoreload 2"
   ]
  },
  {
   "cell_type": "code",
   "execution_count": 2,
   "outputs": [],
   "source": [
    "import pandas as pd\n",
    "import numpy as np\n",
    "from conformal_prediction import CP\n",
    "from preprocess_data import recode_variables, split_train_cal_test"
   ],
   "metadata": {
    "collapsed": false,
    "ExecuteTime": {
     "end_time": "2023-09-14T17:29:05.041663Z",
     "start_time": "2023-09-14T17:28:59.973002Z"
    }
   },
   "id": "7597894a494e5394"
  },
  {
   "cell_type": "code",
   "execution_count": 57,
   "outputs": [],
   "source": [
    "f_path = '/Users/carlharris/Documents/AIEM/Diabetes/waist_circumference/data.csv'\n",
    "df = pd.read_csv(f_path, na_values=\"None\")\n",
    "df = df.replace(to_replace=' ', value=np.nan)\n",
    "df = recode_variables(df)"
   ],
   "metadata": {
    "collapsed": false,
    "ExecuteTime": {
     "end_time": "2023-09-14T17:51:55.349071Z",
     "start_time": "2023-09-14T17:51:55.269227Z"
    }
   },
   "id": "efe86a167102a0dd"
  },
  {
   "cell_type": "code",
   "execution_count": 58,
   "outputs": [],
   "source": [
    "df.dropna(inplace=True)\n",
    "\n",
    "df = df.sample(n = 500)\n",
    "ed_dummies = ['Ed_less_9th', 'Ed_9th_11th', 'Ed_HS_GED', 'Ed_some_coll_AA', 'Ed_coll_above', 'Ed_refused', 'Ed_dk']\n",
    "eth_dummies = ['Eth_Mex_Am', 'Eth_Oth_Hisp', 'Eth_Nonhisp_White', 'Eth_Nonhisp_Black', 'Eth_Other']\n",
    "\n",
    "X = df[[ 'Age', 'Female',  'Weight', 'Height', 'BMI'] + ed_dummies + eth_dummies]\n",
    "\n",
    "outcome = 'Waist'\n",
    "y = df[[outcome]]\n",
    "y = y[outcome].astype(float)"
   ],
   "metadata": {
    "collapsed": false,
    "ExecuteTime": {
     "end_time": "2023-09-14T17:51:55.679776Z",
     "start_time": "2023-09-14T17:51:55.644925Z"
    }
   },
   "id": "7bde62a77397072c"
  },
  {
   "cell_type": "code",
   "execution_count": 60,
   "outputs": [
    {
     "name": "stdout",
     "output_type": "stream",
     "text": [
      "0: no-cp: 0.84, cp: 0.936\n",
      "1: no-cp: 0.864, cp: 0.904\n",
      "2: no-cp: 0.872, cp: 0.904\n",
      "3: no-cp: 0.936, cp: 0.968\n",
      "4: no-cp: 0.952, cp: 0.976\n",
      "5: no-cp: 0.92, cp: 0.92\n",
      "6: no-cp: 0.84, cp: 0.928\n",
      "7: no-cp: 0.912, cp: 0.952\n",
      "8: no-cp: 0.888, cp: 0.952\n",
      "9: no-cp: 0.872, cp: 0.976\n",
      "10: no-cp: 0.896, cp: 0.944\n",
      "11: no-cp: 0.928, cp: 0.952\n",
      "12: no-cp: 0.952, cp: 0.984\n",
      "13: no-cp: 0.912, cp: 0.936\n",
      "14: no-cp: 0.912, cp: 0.952\n",
      "15: no-cp: 0.96, cp: 0.984\n",
      "16: no-cp: 0.904, cp: 0.984\n",
      "17: no-cp: 0.944, cp: 0.992\n",
      "18: no-cp: 0.904, cp: 0.992\n",
      "19: no-cp: 0.936, cp: 0.952\n",
      "20: no-cp: 0.904, cp: 1.0\n",
      "21: no-cp: 0.912, cp: 0.968\n",
      "22: no-cp: 0.88, cp: 0.92\n",
      "23: no-cp: 0.904, cp: 0.952\n",
      "24: no-cp: 0.8, cp: 0.936\n",
      "25: no-cp: 0.888, cp: 0.944\n",
      "26: no-cp: 0.944, cp: 0.992\n",
      "27: no-cp: 0.896, cp: 0.952\n",
      "28: no-cp: 0.928, cp: 0.976\n",
      "29: no-cp: 0.944, cp: 0.968\n",
      "30: no-cp: 0.864, cp: 0.944\n",
      "31: no-cp: 0.848, cp: 0.976\n",
      "32: no-cp: 0.92, cp: 0.952\n",
      "33: no-cp: 0.88, cp: 0.944\n",
      "34: no-cp: 0.896, cp: 0.976\n",
      "35: no-cp: 0.904, cp: 0.936\n",
      "36: no-cp: 0.912, cp: 0.984\n",
      "37: no-cp: 0.88, cp: 0.936\n",
      "38: no-cp: 0.936, cp: 0.984\n",
      "39: no-cp: 0.928, cp: 0.968\n",
      "40: no-cp: 0.888, cp: 0.928\n",
      "41: no-cp: 0.88, cp: 0.944\n",
      "42: no-cp: 0.856, cp: 0.944\n",
      "43: no-cp: 0.928, cp: 0.944\n",
      "44: no-cp: 0.968, cp: 0.968\n",
      "45: no-cp: 0.912, cp: 0.984\n",
      "46: no-cp: 0.904, cp: 0.96\n",
      "47: no-cp: 0.88, cp: 0.968\n",
      "48: no-cp: 0.92, cp: 0.96\n",
      "49: no-cp: 0.904, cp: 0.928\n",
      "50: no-cp: 0.968, cp: 0.952\n",
      "51: no-cp: 0.864, cp: 0.96\n",
      "52: no-cp: 0.904, cp: 0.904\n",
      "53: no-cp: 0.92, cp: 0.92\n",
      "54: no-cp: 0.856, cp: 0.864\n",
      "55: no-cp: 0.84, cp: 0.992\n",
      "56: no-cp: 0.896, cp: 0.976\n",
      "57: no-cp: 0.912, cp: 0.976\n",
      "58: no-cp: 0.952, cp: 0.976\n",
      "59: no-cp: 0.92, cp: 0.976\n",
      "60: no-cp: 0.904, cp: 0.976\n",
      "61: no-cp: 0.968, cp: 0.984\n",
      "62: no-cp: 0.864, cp: 0.976\n",
      "63: no-cp: 0.864, cp: 0.92\n",
      "64: no-cp: 0.912, cp: 0.912\n",
      "65: no-cp: 0.88, cp: 0.96\n",
      "66: no-cp: 0.904, cp: 0.944\n",
      "67: no-cp: 0.92, cp: 0.96\n",
      "68: no-cp: 0.904, cp: 0.944\n",
      "69: no-cp: 0.928, cp: 0.928\n",
      "70: no-cp: 0.912, cp: 0.976\n",
      "71: no-cp: 0.904, cp: 0.992\n",
      "72: no-cp: 0.92, cp: 0.984\n",
      "73: no-cp: 0.96, cp: 0.968\n",
      "74: no-cp: 0.944, cp: 0.944\n",
      "75: no-cp: 0.928, cp: 0.952\n",
      "76: no-cp: 0.88, cp: 0.96\n",
      "77: no-cp: 0.928, cp: 0.968\n",
      "78: no-cp: 0.864, cp: 0.952\n",
      "79: no-cp: 0.912, cp: 0.96\n",
      "80: no-cp: 0.88, cp: 0.928\n",
      "81: no-cp: 0.88, cp: 0.96\n",
      "82: no-cp: 0.904, cp: 0.976\n",
      "83: no-cp: 0.928, cp: 0.952\n",
      "84: no-cp: 0.912, cp: 0.944\n",
      "85: no-cp: 0.888, cp: 0.992\n",
      "86: no-cp: 0.912, cp: 1.0\n",
      "87: no-cp: 0.88, cp: 0.912\n",
      "88: no-cp: 0.88, cp: 0.96\n",
      "89: no-cp: 0.888, cp: 0.976\n",
      "90: no-cp: 0.904, cp: 0.96\n",
      "91: no-cp: 0.92, cp: 0.968\n",
      "92: no-cp: 0.864, cp: 0.976\n",
      "93: no-cp: 0.88, cp: 0.984\n",
      "94: no-cp: 0.888, cp: 0.976\n",
      "95: no-cp: 0.912, cp: 0.944\n",
      "96: no-cp: 0.936, cp: 0.984\n",
      "97: no-cp: 0.912, cp: 0.952\n",
      "98: no-cp: 0.936, cp: 0.944\n",
      "99: no-cp: 0.936, cp: 0.944\n"
     ]
    }
   ],
   "source": [
    "from sklearn.linear_model import QuantileRegressor\n",
    "from sklearn.linear_model import LinearRegression\n",
    "\n",
    "alpha = 0.05\n",
    "n_resamplings = 100\n",
    "\n",
    "no_cal_cov = []\n",
    "cp_cov = []\n",
    "for i in range(n_resamplings):\n",
    "    X_train, X_cal, X_test, y_train, y_cal, y_test = split_train_cal_test(X, y, trn_prop=0.5, cal_prop=0.25)\n",
    "\n",
    "    reg = CP(X_train, X_cal, y_train, y_cal, verbose=0)\n",
    "    reg.train(alpha=alpha)\n",
    "    scores = reg.calculate_scores()\n",
    "    qhat = reg.calc_qhat(alpha=alpha)\n",
    "    \n",
    "    test_pred_df = reg.predict_quantiles(X_test, y_test = y_test)\n",
    "    \n",
    "    test_no_cal_df = reg.conformalize_CIs(test_pred_df, qhat=0)\n",
    "    test_cp_df = reg.conformalize_CIs(test_pred_df)\n",
    "    \n",
    "    cov_no_cal = reg.calc_coverage(test_no_cal_df)\n",
    "    cov = reg.calc_coverage(test_cp_df)\n",
    "    \n",
    "    no_cal_cov.append(cov_no_cal)\n",
    "    cp_cov.append(cov)\n",
    "    \n",
    "    print(f\"{i}: no-cp: {cov_no_cal}, cp: {cov}\")"
   ],
   "metadata": {
    "collapsed": false,
    "ExecuteTime": {
     "end_time": "2023-09-14T17:52:08.539118Z",
     "start_time": "2023-09-14T17:52:06.729631Z"
    }
   },
   "id": "6b912bfc32284c62"
  },
  {
   "cell_type": "code",
   "execution_count": 71,
   "outputs": [
    {
     "data": {
      "text/plain": "<Figure size 640x480 with 1 Axes>",
      "image/png": "[encoded data removed]"
     },
     "metadata": {},
     "output_type": "display_data"
    }
   ],
   "source": [
    "import matplotlib.pyplot as plt\n",
    "plt.hist(cp_cov, bins=10, color='blue', alpha=0.75)\n",
    "plt.axvline(x=np.mean(cp_cov), color='b', linewidth=3)\n",
    "plt.hist(no_cal_cov, bins=10, alpha=0.5, color='orange')\n",
    "plt.axvline(x=np.mean(no_cal_cov), color='orange', linewidth=3)\n",
    "plt.axvline(x=1-alpha, color='r', linewidth=3)\n",
    "plt.show()"
   ],
   "metadata": {
    "collapsed": false,
    "ExecuteTime": {
     "end_time": "2023-09-14T17:54:55.266610Z",
     "start_time": "2023-09-14T17:54:55.186334Z"
    }
   },
   "id": "59bf83968b169cd1"
  },
  {
   "cell_type": "code",
   "execution_count": 62,
   "outputs": [
    {
     "data": {
      "text/plain": "22.140018088312537"
     },
     "execution_count": 62,
     "metadata": {},
     "output_type": "execute_result"
    }
   ],
   "source": [
    "np.mean(test_cp_df['diff'])"
   ],
   "metadata": {
    "collapsed": false,
    "ExecuteTime": {
     "end_time": "2023-09-14T17:52:27.655426Z",
     "start_time": "2023-09-14T17:52:27.623947Z"
    }
   },
   "id": "4e4009fe05c4ad89"
  },
  {
   "cell_type": "code",
   "execution_count": null,
   "outputs": [],
   "source": [],
   "metadata": {
    "collapsed": false
   },
   "id": "11f6224ac721af7e"
  }
 ],
 "metadata": {
  "kernelspec": {
   "display_name": "Python 3",
   "language": "python",
   "name": "python3"
  },
  "language_info": {
   "codemirror_mode": {
    "name": "ipython",
    "version": 2
   },
   "file_extension": ".py",
   "mimetype": "text/x-python",
   "name": "python",
   "nbconvert_exporter": "python",
   "pygments_lexer": "ipython2",
   "version": "2.7.6"
  }
 },
 "nbformat": 4,
 "nbformat_minor": 5
}
